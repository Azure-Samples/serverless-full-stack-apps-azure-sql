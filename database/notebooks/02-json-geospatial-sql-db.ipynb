{
    "metadata": {
        "kernelspec": {
            "name": "SQL",
            "display_name": "SQL",
            "language": "sql"
        },
        "language_info": {
            "name": "sql",
            "version": ""
        }
    },
    "nbformat_minor": 2,
    "nbformat": 4,
    "cells": [
        {
            "cell_type": "markdown",
            "source": [
                "# Modern database capabilities in Azure SQL Database\n",
                "\n",
                "This is a SQL Notebook, which allows you to separate text and code blocks and save code results. Azure Data Studio supports several languages, referred to as kernels, including SQL, PowerShell, Python, and more.\n",
                "\n",
                "In this activity, you'll explore how Azure SQL Database is great for modern scenarios that require JSON and/or geospatial support by using T-SQL to analyze both.\n",
                "\n",
                "## Set up: Connect to `bus-db`\n",
                "\n",
                "At the top of the window, select **Select Connection** \\> **Change Connection** next to \"Attach to\".\n",
                "\n",
                "Under _Recent Connections_ select your `bus-db` connection.\n",
                "\n",
                "You should now see it listed next to _Attach to_."
            ],
            "metadata": {
                "azdata_cell_guid": "a2782576-c8ad-483e-bd03-289dd656844c"
            }
        },
        {
            "cell_type": "markdown",
            "source": [
                "## Part 1: Explore JSON support\n",
                "\n",
                "If you want to start over at any point, run the below cell to delete the temporary tables. Otherwise, you can skip it."
            ],
            "metadata": {
                "azdata_cell_guid": "f348fdae-e69a-4271-907d-e6b4e0619151"
            }
        },
        {
            "cell_type": "code",
            "source": [
                "DROP TABLE IF EXISTS #t;\r\n",
                "DROP TABLE IF EXISTS #g;\r\n",
                "DROP TABLE IF EXISTS #r;"
            ],
            "metadata": {
                "azdata_cell_guid": "c14329fd-fee4-4014-a77d-ed5b59785685",
                "language": "sql"
            },
            "outputs": [
                {
                    "output_type": "display_data",
                    "data": {
                        "text/html": "Commands completed successfully."
                    },
                    "metadata": {}
                },
                {
                    "output_type": "display_data",
                    "data": {
                        "text/html": "Total execution time: 00:00:00.570"
                    },
                    "metadata": {}
                }
            ],
            "execution_count": 2
        },
        {
            "cell_type": "markdown",
            "source": [
                "To take a look at an example, let's create a payload which contains two bus data points. This JSON format is similar to what will be ultimately pulled from the real-time data source. Our goal in this section is to add the received bus geolocation data and check if the buses are inside any predefined GeoFence.\n",
                "\n",
                "Once you declare a payload, you can use it to insert the data into a temporary table `#t`. Notice how `openjson(@payload)` allows you to parse the JSON very easily with T-SQL.\n",
                "\n",
                "One other thing to call out from the select statement below is the `GEOGRAPHY::Point([Latitude], [Longitude], 4326)` which is able to take in latitudes and longitudes and convert it to a spatial reference identifier (SRID) which applies to a certain standard (in this case `4326` is used). More on geospatial later in this activity."
            ],
            "metadata": {
                "azdata_cell_guid": "962dcc3f-be18-4cc3-bdfc-d670c962a0dc"
            }
        },
        {
            "cell_type": "code",
            "source": [
                "DECLARE @payload NVARCHAR(max) = N'[{\r\n",
                "\t\t\"DirectionId\": 1,\r\n",
                "\t\t\"RouteId\": 100001,\r\n",
                "\t\t\"VehicleId\": 1,\r\n",
                "\t\t\"Position\": {\r\n",
                "\t\t\t\"Latitude\": 47.61705102765316,\r\n",
                "\t\t\t\"Longitude\": -122.14291865504012 \r\n",
                "\t\t},\r\n",
                "\t\t\"TimestampUTC\": \"20201031\"\r\n",
                "\t},{\r\n",
                "        \"DirectionId\": 1,\r\n",
                "\t\t\"RouteId\": 100531,\r\n",
                "\t\t\"VehicleId\": 2,\r\n",
                "\t\t\"Position\": {\r\n",
                "\t\t\t\"Latitude\": 47.61346156765316,\r\n",
                "\t\t\t\"Longitude\": -122.14291784492805\r\n",
                "\t\t},\r\n",
                "\t\t\"TimestampUTC\": \"20201031\"\r\n",
                "}]';\r\n",
                "\r\n",
                "SELECT\r\n",
                "\t[DirectionId], \r\n",
                "\t[RouteId], \r\n",
                "\t[VehicleId], \r\n",
                "\tGEOGRAPHY::Point([Latitude], [Longitude], 4326) AS [Location], \r\n",
                "\t[TimestampUTC]\r\n",
                "INTO #t\r\n",
                "FROM\r\n",
                "\topenjson(@payload) WITH (\r\n",
                "\t\t[DirectionId] INT,\r\n",
                "\t\t[RouteId] INT,\r\n",
                "\t\t[VehicleId] INT,\r\n",
                "\t\t[Latitude] DECIMAL(10,6) '$.Position.Latitude',\r\n",
                "\t\t[Longitude] DECIMAL(10,6) '$.Position.Longitude',\r\n",
                "\t\t[TimestampUTC] DATETIME2(7)\r\n",
                "\t);"
            ],
            "metadata": {
                "azdata_cell_guid": "5a690353-b1f9-43b2-85e1-2a7467f7b3ad",
                "language": "sql"
            },
            "outputs": [
                {
                    "output_type": "display_data",
                    "data": {
                        "text/html": "(2 rows affected)"
                    },
                    "metadata": {}
                },
                {
                    "output_type": "display_data",
                    "data": {
                        "text/html": "Total execution time: 00:00:00.158"
                    },
                    "metadata": {}
                }
            ],
            "execution_count": 1
        },
        {
            "cell_type": "markdown",
            "source": [
                "Now that you've inserted data into `#t`, take a look at the results. Azure SQL Database is able to take in the JSON data and turn it into a table without difficulty."
            ],
            "metadata": {
                "azdata_cell_guid": "3a30a8e0-5054-471c-84f3-6e28dc47c694"
            }
        },
        {
            "cell_type": "code",
            "source": [
                "select * from #t;"
            ],
            "metadata": {
                "azdata_cell_guid": "92c0d495-d239-4dd1-b095-05f8fa0a6cef",
                "language": "sql"
            },
            "outputs": [
                {
                    "output_type": "display_data",
                    "data": {
                        "text/html": "(2 rows affected)"
                    },
                    "metadata": {}
                },
                {
                    "output_type": "display_data",
                    "data": {
                        "text/html": "Total execution time: 00:00:00.123"
                    },
                    "metadata": {}
                },
                {
                    "output_type": "execute_result",
                    "metadata": {},
                    "execution_count": 2,
                    "data": {
                        "application/vnd.dataresource+json": {
                            "schema": {
                                "fields": [
                                    {
                                        "name": "DirectionId"
                                    },
                                    {
                                        "name": "RouteId"
                                    },
                                    {
                                        "name": "VehicleId"
                                    },
                                    {
                                        "name": "Location"
                                    },
                                    {
                                        "name": "TimestampUTC"
                                    }
                                ]
                            },
                            "data": [
                                {
                                    "DirectionId": "1",
                                    "RouteId": "100001",
                                    "VehicleId": "1",
                                    "Location": "0xE6100000010C677BF486FBCE474088BEBB9525895EC0",
                                    "TimestampUTC": "2020-10-31 00:00:00.0000000"
                                },
                                {
                                    "DirectionId": "1",
                                    "RouteId": "100531",
                                    "VehicleId": "2",
                                    "Location": "0xE6100000010C5CAB3DEC85CE47409F008A9125895EC0",
                                    "TimestampUTC": "2020-10-31 00:00:00.0000000"
                                }
                            ]
                        },
                        "text/html": [
                            "<table>",
                            "<tr><th>DirectionId</th><th>RouteId</th><th>VehicleId</th><th>Location</th><th>TimestampUTC</th></tr>",
                            "<tr><td>1</td><td>100001</td><td>1</td><td>0xE6100000010C677BF486FBCE474088BEBB9525895EC0</td><td>2020-10-31 00:00:00.0000000</td></tr>",
                            "<tr><td>1</td><td>100531</td><td>2</td><td>0xE6100000010C5CAB3DEC85CE47409F008A9125895EC0</td><td>2020-10-31 00:00:00.0000000</td></tr>",
                            "</table>"
                        ]
                    }
                }
            ],
            "execution_count": 2
        },
        {
            "cell_type": "markdown",
            "source": [
                "## Part 2: Explore geospatial support\n",
                "\n",
                "You saw briefly how the longitude and latitude were converted to a point using \\`GEOGRAPHY::Point()\\`. In the previous statement you see it as a long string of letters and numbers. By using `ToString()`, you can easily see the point values."
            ],
            "metadata": {
                "azdata_cell_guid": "102d8657-f5ab-4921-809d-d77fc9b41ad2"
            }
        },
        {
            "cell_type": "code",
            "source": [
                "SELECT [VehicleId], [Location].ToString() AS Location FROM #t;"
            ],
            "metadata": {
                "azdata_cell_guid": "b8d596bf-0540-49fa-b206-ce52397c0459",
                "language": "sql"
            },
            "outputs": [
                {
                    "output_type": "display_data",
                    "data": {
                        "text/html": "(2 rows affected)"
                    },
                    "metadata": {}
                },
                {
                    "output_type": "display_data",
                    "data": {
                        "text/html": "Total execution time: 00:00:00.313"
                    },
                    "metadata": {}
                },
                {
                    "output_type": "execute_result",
                    "metadata": {},
                    "execution_count": 3,
                    "data": {
                        "application/vnd.dataresource+json": {
                            "schema": {
                                "fields": [
                                    {
                                        "name": "VehicleId"
                                    },
                                    {
                                        "name": "Location"
                                    }
                                ]
                            },
                            "data": [
                                {
                                    "VehicleId": "1",
                                    "Location": "POINT (-122.142919 47.617051)"
                                },
                                {
                                    "VehicleId": "2",
                                    "Location": "POINT (-122.142918 47.613462)"
                                }
                            ]
                        },
                        "text/html": [
                            "<table>",
                            "<tr><th>VehicleId</th><th>Location</th></tr>",
                            "<tr><td>1</td><td>POINT (-122.142919 47.617051)</td></tr>",
                            "<tr><td>2</td><td>POINT (-122.142918 47.613462)</td></tr>",
                            "</table>"
                        ]
                    }
                }
            ],
            "execution_count": 3
        },
        {
            "cell_type": "markdown",
            "source": [
                "You can navigate to [https://clydedacruz.github.io/openstreetmap-wkt-playground](https://clydedacruz.github.io/openstreetmap-wkt-playground), clear the sample, enter in one of the points and select **Plot Shape** to see the point displayed on a map.\n",
                "\n",
                "You can do other things with the geospatial support, a common one might be to find the distance between, in this case, the two buses."
            ],
            "metadata": {
                "azdata_cell_guid": "a53ad031-a7c3-40a9-bf5b-695a148dbea9"
            }
        },
        {
            "cell_type": "code",
            "source": [
                "declare @bus1 geography;\r\n",
                "declare @bus2 geography;\r\n",
                "select @bus1 = [Location] from #t where VehicleId = 1;\r\n",
                "select @bus2 = [Location] from #t where VehicleId = 2;\r\n",
                "select @bus1.STDistance(@bus2) as DistanceInMeters;"
            ],
            "metadata": {
                "azdata_cell_guid": "1cc9823a-4b83-4e91-a36f-8b503abf0347",
                "language": "sql"
            },
            "outputs": [
                {
                    "output_type": "display_data",
                    "data": {
                        "text/html": "(1 row affected)"
                    },
                    "metadata": {}
                },
                {
                    "output_type": "display_data",
                    "data": {
                        "text/html": "Total execution time: 00:00:00.140"
                    },
                    "metadata": {}
                },
                {
                    "output_type": "execute_result",
                    "metadata": {},
                    "execution_count": 4,
                    "data": {
                        "application/vnd.dataresource+json": {
                            "schema": {
                                "fields": [
                                    {
                                        "name": "DistanceInMeters"
                                    }
                                ]
                            },
                            "data": [
                                {
                                    "DistanceInMeters": "399.03519789173953"
                                }
                            ]
                        },
                        "text/html": [
                            "<table>",
                            "<tr><th>DistanceInMeters</th></tr>",
                            "<tr><td>399.03519789173953</td></tr>",
                            "</table>"
                        ]
                    }
                }
            ],
            "execution_count": 4
        },
        {
            "cell_type": "markdown",
            "source": [
                "In addition to points, you can also define and store polygons on Earth's surface. This is what we have been referring to as a GeoFence. At the same URL as before, you can replace the `POINT` values with, for example, `POLYGON ((-122.14359028995352 47.618245191245848, -122.14360975757847 47.616519550427654, -122.13966755206604 47.616526111887509, -122.13968701903617 47.617280676597375, -122.142821316476 47.617300360798339, -122.142821316476 47.618186139853435, -122.14359028995352 47.618245191245848))` and see the shape on the map.\r\n",
                "\r\n",
                "This shape represents the GeoFence where you might want to be notified that your bus is entering or exiting. Azure SQL Database also supports using the `POLYGON` format to add that data to a table, as shown below."
            ],
            "metadata": {
                "azdata_cell_guid": "3f360f2b-eac5-425e-8cd3-0f59d18bbecb"
            }
        },
        {
            "cell_type": "code",
            "source": [
                "SELECT * INTO #g \r\n",
                "FROM (VALUES(\r\n",
                "        CAST('Overlake Stop' AS NVARCHAR(100)),\r\n",
                "        GEOGRAPHY::STGeomFromText('POLYGON ((-122.14359028995352 47.618245191245848, -122.14360975757847 47.616519550427654, -122.13966755206604 47.616526111887509, -122.13968701903617 47.617280676597375, -122.142821316476 47.617300360798339, -122.142821316476 47.618186139853435, -122.14359028995352 47.618245191245848))',4326)\r\n",
                "    ))\r\n",
                "    AS s ([BusStop], [GeoFence])\r\n",
                "SELECT * FROM #g"
            ],
            "metadata": {
                "azdata_cell_guid": "78c7acde-05ec-486b-bb6a-5b25f5007c59",
                "language": "sql"
            },
            "outputs": [
                {
                    "output_type": "display_data",
                    "data": {
                        "text/html": "(1 row affected)"
                    },
                    "metadata": {}
                },
                {
                    "output_type": "display_data",
                    "data": {
                        "text/html": "(1 row affected)"
                    },
                    "metadata": {}
                },
                {
                    "output_type": "display_data",
                    "data": {
                        "text/html": "Total execution time: 00:00:00.353"
                    },
                    "metadata": {}
                },
                {
                    "output_type": "execute_result",
                    "metadata": {},
                    "execution_count": 5,
                    "data": {
                        "application/vnd.dataresource+json": {
                            "schema": {
                                "fields": [
                                    {
                                        "name": "BusStop"
                                    },
                                    {
                                        "name": "GeoFence"
                                    }
                                ]
                            },
                            "data": [
                                {
                                    "BusStop": "Overlake Stop",
                                    "GeoFence": "0xE6100000010407000000B4A78EA822CF4740E8D7539530895EC03837D51CEACE4740E80BFBE630895EC0ECD7DF53EACE4740E81B2C50F0885EC020389F0D03CF4740E99BD2A1F0885EC00CB8BEB203CF4740E9DB04FC23895EC068C132B920CF4740E9DB04FC23895EC0B4A78EA822CF4740E8D7539530895EC001000000020000000001000000FFFFFFFF0000000003"
                                }
                            ]
                        },
                        "text/html": [
                            "<table>",
                            "<tr><th>BusStop</th><th>GeoFence</th></tr>",
                            "<tr><td>Overlake Stop</td><td>0xE6100000010407000000B4A78EA822CF4740E8D7539530895EC03837D51CEACE4740E80BFBE630895EC0ECD7DF53EACE4740E81B2C50F0885EC020389F0D03CF4740E99BD2A1F0885EC00CB8BEB203CF4740E9DB04FC23895EC068C132B920CF4740E9DB04FC23895EC0B4A78EA822CF4740E8D7539530895EC001000000020000000001000000FFFFFFFF0000000003</td></tr>",
                            "</table>"
                        ]
                    }
                }
            ],
            "execution_count": 5
        },
        {
            "cell_type": "markdown",
            "source": [
                "Now that you have defined a few points and a GeoFence, you might want to know if and when a bus is located from within the GeoFence. With Azure SQL Database, that is easy to do."
            ],
            "metadata": {
                "azdata_cell_guid": "46ac87ea-ab53-4c87-9b41-57a3b96924a0"
            }
        },
        {
            "cell_type": "code",
            "source": [
                "SELECT\r\n",
                "    t.DirectionId,\r\n",
                "    t.RouteId,\r\n",
                "    t.VehicleId,\r\n",
                "    GEOGRAPHY::STGeomCollFromText('GEOMETRYCOLLECTION(' + t.[Location].ToString() + ', ' + g.[GeoFence].ToString() +')',4326).ToString() as [WKT],\r\n",
                "    t.[Location].STWithin(g.[GeoFence]) as InGeoFence\r\n",
                "INTO #r \r\n",
                "FROM #t AS t \r\n",
                "CROSS JOIN #g AS g \r\n",
                "WHERE g.[BusStop] = 'Overlake Stop';\r\n",
                "\r\n",
                "SELECT * FROM #r;"
            ],
            "metadata": {
                "azdata_cell_guid": "3e3da57b-2132-4788-b46c-20374d080b2f",
                "language": "sql"
            },
            "outputs": [
                {
                    "output_type": "display_data",
                    "data": {
                        "text/html": "(2 rows affected)"
                    },
                    "metadata": {}
                },
                {
                    "output_type": "display_data",
                    "data": {
                        "text/html": "(2 rows affected)"
                    },
                    "metadata": {}
                },
                {
                    "output_type": "display_data",
                    "data": {
                        "text/html": "Total execution time: 00:00:00.180"
                    },
                    "metadata": {}
                },
                {
                    "output_type": "execute_result",
                    "metadata": {},
                    "execution_count": 6,
                    "data": {
                        "application/vnd.dataresource+json": {
                            "schema": {
                                "fields": [
                                    {
                                        "name": "DirectionId"
                                    },
                                    {
                                        "name": "RouteId"
                                    },
                                    {
                                        "name": "VehicleId"
                                    },
                                    {
                                        "name": "WKT"
                                    },
                                    {
                                        "name": "InGeoFence"
                                    }
                                ]
                            },
                            "data": [
                                {
                                    "DirectionId": "1",
                                    "RouteId": "100001",
                                    "VehicleId": "1",
                                    "WKT": "GEOMETRYCOLLECTION (POINT (-122.142919 47.617051), POLYGON ((-122.14359028995352 47.618245191245848, -122.14360975757847 47.616519550427654, -122.13966755206604 47.616526111887509, -122.13968701903617 47.617280676597375, -122.142821316476 47.617300360798339, -122.142821316476 47.618186139853435, -122.14359028995352 47.618245191245848)))",
                                    "InGeoFence": "1"
                                },
                                {
                                    "DirectionId": "1",
                                    "RouteId": "100531",
                                    "VehicleId": "2",
                                    "WKT": "GEOMETRYCOLLECTION (POINT (-122.142918 47.613462), POLYGON ((-122.14359028995352 47.618245191245848, -122.14360975757847 47.616519550427654, -122.13966755206604 47.616526111887509, -122.13968701903617 47.617280676597375, -122.142821316476 47.617300360798339, -122.142821316476 47.618186139853435, -122.14359028995352 47.618245191245848)))",
                                    "InGeoFence": "0"
                                }
                            ]
                        },
                        "text/html": [
                            "<table>",
                            "<tr><th>DirectionId</th><th>RouteId</th><th>VehicleId</th><th>WKT</th><th>InGeoFence</th></tr>",
                            "<tr><td>1</td><td>100001</td><td>1</td><td>GEOMETRYCOLLECTION (POINT (-122.142919 47.617051), POLYGON ((-122.14359028995352 47.618245191245848, -122.14360975757847 47.616519550427654, -122.13966755206604 47.616526111887509, -122.13968701903617 47.617280676597375, -122.142821316476 47.617300360798339, -122.142821316476 47.618186139853435, -122.14359028995352 47.618245191245848)))</td><td>1</td></tr>",
                            "<tr><td>1</td><td>100531</td><td>2</td><td>GEOMETRYCOLLECTION (POINT (-122.142918 47.613462), POLYGON ((-122.14359028995352 47.618245191245848, -122.14360975757847 47.616519550427654, -122.13966755206604 47.616526111887509, -122.13968701903617 47.617280676597375, -122.142821316476 47.617300360798339, -122.142821316476 47.618186139853435, -122.14359028995352 47.618245191245848)))</td><td>0</td></tr>",
                            "</table>"
                        ]
                    }
                }
            ],
            "execution_count": 6
        },
        {
            "cell_type": "markdown",
            "source": [
                "You can copy a value for `WKT` above and plug it into a map to see that the `InGeoFence` column indeed matches if a bus is in the GeoFence. Note that `GEOMETRYCOLLECTION` allows you to plot points and polygons together."
            ],
            "metadata": {
                "azdata_cell_guid": "c8d2f9b4-af0e-48c2-a594-e21bb7e297a7"
            }
        },
        {
            "cell_type": "markdown",
            "source": [
                "## Part 3: Create Stored Procedures to get and add data\n",
                "\n",
                "You've now seen how to use Azure SQL Database to determine if a bus is within a GeoFence. However, you now need to scale this so it can process real-time data as it flows in. Stored procedures will greatly simplify this in future exercises where you're leveraging other services, e.g. Azure Functions, Azure Logic Apps, Azure App Service, etc.\n",
                "\n",
                "A stored procedure is a way to group SQL statements and execute them on the database with one command. For the catching the bus scenario, three stored procedures will be required and you will create them using your learnings from Parts 1 and 2. As you create the stored procedures, take some time to review the T-SQL and how it compares to what you learned in Parts 1 and 2.\n",
                "\n",
                "1. **web.AddBusData**: this stored procedure takes in JSON data containing new bus route, vehicle, direction, time, and location information and adds it to the _busData_ table. If a bus enters/exits a GeoFence, it will also log this information in the _GeoFencesActive_ table."
            ],
            "metadata": {
                "azdata_cell_guid": "85b43292-8b20-432a-9b39-b72462d02b50"
            }
        },
        {
            "cell_type": "code",
            "source": [
                "create schema [web] AUTHORIZATION [dbo];\r\n",
                "go"
            ],
            "metadata": {
                "azdata_cell_guid": "ae8b7a37-24ae-4dda-a1fe-e9fd2f8426a8",
                "tags": [],
                "language": "sql"
            },
            "outputs": [
                {
                    "output_type": "display_data",
                    "data": {
                        "text/html": "Commands completed successfully."
                    },
                    "metadata": {}
                },
                {
                    "output_type": "display_data",
                    "data": {
                        "text/html": "Total execution time: 00:00:00.217"
                    },
                    "metadata": {}
                }
            ],
            "execution_count": 7
        },
        {
            "cell_type": "code",
            "source": [
                "DROP TABLE IF EXISTS #t;\r\n",
                "DROP TABLE IF EXISTS #g;\r\n",
                "DROP TABLE IF EXISTS #r;"
            ],
            "metadata": {
                "azdata_cell_guid": "b37cc158-0917-4080-b839-acf01dda488d",
                "language": "sql"
            },
            "outputs": [
                {
                    "output_type": "display_data",
                    "data": {
                        "text/html": "Commands completed successfully."
                    },
                    "metadata": {}
                },
                {
                    "output_type": "display_data",
                    "data": {
                        "text/html": "Total execution time: 00:00:00.277"
                    },
                    "metadata": {}
                }
            ],
            "execution_count": 8
        },
        {
            "cell_type": "code",
            "source": [
                "/*\r\n",
                "\tAdd received Bus geolocation data and check if buses are\r\n",
                "\tinside any defined GeoFence. JSON must be like:\r\n",
                "\r\n",
                "\t{\r\n",
                "\t\t\"DirectionId\": 1,\r\n",
                "\t\t\"RouteId\": 100001,\r\n",
                "\t\t\"VehicleId\": 2,\r\n",
                "\t\t\"Position\": {\r\n",
                "\t\t\t\"Latitude\": 47.61705102765316,\r\n",
                "\t\t\t\"Longitude\": -122.14291865504012 \r\n",
                "\t\t},\r\n",
                "\t\t\"TimestampUTC\": \"20201031\"\r\n",
                "\t}\r\n",
                "}\r\n",
                "*/\r\n",
                "create or alter procedure [web].[AddBusData]\r\n",
                "@payload nvarchar(max) \r\n",
                "as\r\n",
                "begin\t\r\n",
                "\tset nocount on\r\n",
                "\tset xact_abort on\r\n",
                "\tset tran isolation level serializable\r\n",
                "\r\n",
                "\tbegin tran\r\n",
                "\r\n",
                "\tif (isjson(@payload) != 1) begin;\r\n",
                "\t\tthrow 50000, 'Payload is not a valid JSON document', 16;\r\n",
                "\tend;\r\n",
                "\r\n",
                "\tdeclare @ids as table (id int);\r\n",
                "\r\n",
                "\t-- insert bus data\r\n",
                "\tinsert into dbo.[BusData] \r\n",
                "\t\t([DirectionId], [RouteId], [VehicleId], [Location], [TimestampUTC])\r\n",
                "\toutput\r\n",
                "\t\tinserted.Id into @ids\r\n",
                "\tselect\r\n",
                "\t\t[DirectionId], \r\n",
                "\t\t[RouteId], \r\n",
                "\t\t[VehicleId], \r\n",
                "\t\tgeography::Point([Latitude], [Longitude], 4326) as [Location], \r\n",
                "\t\t[TimestampUTC]\r\n",
                "\tfrom\r\n",
                "\t\topenjson(@payload) with (\r\n",
                "\t\t\t[DirectionId] int,\r\n",
                "\t\t\t[RouteId] int,\r\n",
                "\t\t\t[VehicleId] int,\r\n",
                "\t\t\t[Latitude] decimal(10,6) '$.Position.Latitude',\r\n",
                "\t\t\t[Longitude] decimal(10,6) '$.Position.Longitude',\r\n",
                "\t\t\t[TimestampUTC] datetime2(7)\r\n",
                "\t\t);\r\n",
                "\t\t\r\n",
                "\t-- Get details of inserted data\r\n",
                "\tselect * into #t from dbo.[BusData] bd where bd.id in (select i.id from @ids i);\r\n",
                "\r\n",
                "\t-- Find geofences in which the vehicle is in\r\n",
                "\tselect \r\n",
                "\t\tt.Id as BusDataId,\r\n",
                "\t\tt.[VehicleId],\r\n",
                "\t\tt.[DirectionId],\r\n",
                "\t\tt.[TimestampUTC],\r\n",
                "\t\tt.[RouteId],\t\t\r\n",
                "\t\tg.Id as GeoFenceId\r\n",
                "\tinto\r\n",
                "\t\t#g\r\n",
                "\tfrom \r\n",
                "\t\tdbo.GeoFences g \r\n",
                "\tright join\r\n",
                "\t\t#t t on g.GeoFence.STContains(t.[Location]) = 1;\r\n",
                "\r\n",
                "\t-- Calculate status\r\n",
                "\tselect\r\n",
                "\t\tc.BusDataId,\r\n",
                "\t\tcoalesce(a.[GeoFenceId], c.[GeoFenceId]) as GeoFenceId,\r\n",
                "\t\tcoalesce(a.[DirectionId], c.[DirectionId]) as DirectionId,\r\n",
                "\t\tcoalesce(a.[VehicleId], c.[VehicleId]) as VehicleId,\r\n",
                "\t\tc.[RouteId],\r\n",
                "\t\tc.[TimestampUTC],\r\n",
                "\t\tcase \r\n",
                "\t\t\twhen a.GeoFenceId is null and c.GeoFenceId is not null then 'Enter'\r\n",
                "\t\t\twhen a.GeoFenceId is not null and c.GeoFenceId is null then 'Exit'\t\t\r\n",
                "\t\tend as [Status]\r\n",
                "\tinto\r\n",
                "\t\t#s \r\n",
                "\tfrom\r\n",
                "\t\t#g c\r\n",
                "\tfull outer join\r\n",
                "\t\tdbo.GeoFencesActive a on c.DirectionId = a.DirectionId and c.VehicleId = a.VehicleId;\r\n",
                "\t\r\n",
                "\t-- Delete exited geofences\r\n",
                "\tdelete \r\n",
                "\t\ta\r\n",
                "\tfrom\r\n",
                "\t\tdbo.GeoFencesActive a\r\n",
                "\tinner join\r\n",
                "\t\t#s s on a.VehicleId = s.VehicleId and s.DirectionId = a.DirectionId and s.[Status] = 'Exit';\r\n",
                "\r\n",
                "\t-- Insert entered geofences\r\n",
                "\tinsert into dbo.GeoFencesActive \r\n",
                "\t\t([GeoFenceId], [DirectionId], [VehicleId])\r\n",
                "\tselect\r\n",
                "\t\t[GeoFenceId], [DirectionId], [VehicleId]\r\n",
                "\tfrom\r\n",
                "\t\t#s s\r\n",
                "\twhere \r\n",
                "\t\ts.[Status] = 'Enter';\r\n",
                "\r\n",
                "\t-- Insert Log\r\n",
                "\tinsert into dbo.GeoFenceLog \r\n",
                "\t\t(GeoFenceId, BusDataId, [RouteId], [VehicleId], [TimestampUTC], [Status])\r\n",
                "\tselect\r\n",
                "\t\tGeoFenceId, BusDataId, [RouteId], [VehicleId], [TimestampUTC], isnull([Status], 'In')\r\n",
                "\tfrom\r\n",
                "\t\t#s s\r\n",
                "\twhere\r\n",
                "\t\ts.[GeoFenceId] is not null\r\n",
                "\tand\r\n",
                "\t\ts.[BusDataId] is not null\r\n",
                "\r\n",
                "\t-- Return Entered or Exited geofences\r\n",
                "\tselect\r\n",
                "\t((\r\n",
                "\t\tselect\r\n",
                "\t\t\ts.[BusDataId],  \r\n",
                "\t\t\ts.[VehicleId],\r\n",
                "\t\t\ts.[DirectionId],  \r\n",
                "\t\t\ts.[RouteId], \r\n",
                "\t\t\tr.[ShortName] as RouteName,\r\n",
                "\t\t\ts.[GeoFenceId], \r\n",
                "\t\t\tgf.[Name] as GeoFence,\r\n",
                "\t\t\ts.[Status] as GeoFenceStatus,\r\n",
                "\t\t\ts.[TimestampUTC]\r\n",
                "\t\tfrom\r\n",
                "\t\t\t#s s\r\n",
                "\t\tinner join\r\n",
                "\t\t\tdbo.[GeoFences] gf on s.[GeoFenceId] = gf.[Id]\r\n",
                "\t\tinner join\r\n",
                "\t\t\tdbo.[Routes] r on s.[RouteId] = r.[Id]\r\n",
                "\t\twhere\r\n",
                "\t\t\ts.[Status] is not null and s.[GeoFenceId] is not null\r\n",
                "\t\tfor \r\n",
                "\t\t\tjson path\r\n",
                "\t)) as ActivatedGeoFences;\r\n",
                "\r\n",
                "\tcommit\r\n",
                "end"
            ],
            "metadata": {
                "azdata_cell_guid": "a29d10d2-ad7f-4062-bad6-3536ffcb5a1c",
                "language": "sql"
            },
            "outputs": [
                {
                    "output_type": "display_data",
                    "data": {
                        "text/html": "Commands completed successfully."
                    },
                    "metadata": {}
                },
                {
                    "output_type": "display_data",
                    "data": {
                        "text/html": "Total execution time: 00:00:00.253"
                    },
                    "metadata": {}
                }
            ],
            "execution_count": 10
        },
        {
            "cell_type": "markdown",
            "source": [
                "2. **web.GetMonitoredRoutes**: this stored procedure returns the route IDs for the bus routes that are being monitored."
            ],
            "metadata": {
                "azdata_cell_guid": "905f2a7b-5775-4149-90c0-afea8ec249ff"
            }
        },
        {
            "cell_type": "code",
            "source": [
                "/*\r\n",
                "\tReturn the Routes (and thus the buses) to monitor\r\n",
                "*/\r\n",
                "create or alter procedure [web].[GetMonitoredRoutes]\r\n",
                "as\r\n",
                "begin\r\n",
                "\tselect \r\n",
                "\t((\t\r\n",
                "\t\tselect RouteId from dbo.[MonitoredRoutes] for json auto\r\n",
                "\t)) as MonitoredRoutes\r\n",
                "end\r\n",
                "GO"
            ],
            "metadata": {
                "azdata_cell_guid": "afc7f551-18a4-49bb-bf9f-a8f7f30bdafd",
                "language": "sql"
            },
            "outputs": [
                {
                    "output_type": "display_data",
                    "data": {
                        "text/html": "Commands completed successfully."
                    },
                    "metadata": {}
                },
                {
                    "output_type": "display_data",
                    "data": {
                        "text/html": "Total execution time: 00:00:00.244"
                    },
                    "metadata": {}
                }
            ],
            "execution_count": 11
        },
        {
            "cell_type": "markdown",
            "source": [
                "3. **web.GetMonitoredBusData**: this stored procedure will return bus information for the 50 most-recent buses within 5 kilometers of the monitored GeoFence(s)."
            ],
            "metadata": {
                "azdata_cell_guid": "ee6d9b66-9075-4adf-bce7-a09b78d0b303"
            }
        },
        {
            "cell_type": "code",
            "source": [
                "/*\r\n",
                "\tReturn last geospatial data for bus closest to the GeoFence\r\n",
                "*/\r\n",
                "create or alter procedure [web].[GetMonitoredBusData]\r\n",
                "@routeId int,\r\n",
                "@geofenceId int\r\n",
                "as\r\n",
                "begin\r\n",
                "\twith cte as\r\n",
                "\t(\r\n",
                "\t\t-- Get the latest location of all the buses in the given route\r\n",
                "\t\tselect top (1) with ties \r\n",
                "\t\t\t*  \r\n",
                "\t\tfrom \r\n",
                "\t\t\tdbo.[BusData] \r\n",
                "\t\twhere\r\n",
                "\t\t\t[RouteId] = @routeId\r\n",
                "\t\torder by \r\n",
                "\t\t\t[ReceivedAtUTC] desc\r\n",
                "\t),\r\n",
                "\tcte2 as\r\n",
                "\t(\r\n",
                "\t\t-- Get the closest to the GeoFence\r\n",
                "\t\tselect top (1)\r\n",
                "\t\t\tc.[VehicleId],\r\n",
                "\t\t\tgf.[GeoFence],\r\n",
                "\t\t\tc.[Location].STDistance(gf.[GeoFence]) as d\r\n",
                "\t\tfrom\r\n",
                "\t\t\t[cte] c\r\n",
                "\t\tcross join\r\n",
                "\t\t\tdbo.[GeoFences] gf\r\n",
                "\t\twhere\r\n",
                "\t\t\tgf.[Id] = @geofenceId\r\n",
                "\t\torder by\r\n",
                "\t\t\td \r\n",
                "\t), cte3 as\r\n",
                "\t(\r\n",
                "\t-- Take the last 50 points \r\n",
                "\tselect top (50)\r\n",
                "\t\t[bd].[VehicleId],\r\n",
                "\t\t[bd].[DirectionId],\r\n",
                "\t\t[bd].[Location] as l,\r\n",
                "\t\t[bd].[Location].STDistance([GeoFence]) as d\r\n",
                "\tfrom\r\n",
                "\t\tdbo.[BusData] bd\r\n",
                "\tinner join\r\n",
                "\t\tcte2 on [cte2].[VehicleId] = [bd].[VehicleId]\r\n",
                "\torder by \r\n",
                "\t\tid desc\r\n",
                "\t)\r\n",
                "\t-- Return only the points that are withing 5 Km\r\n",
                "\tselect \r\n",
                "\t((\r\n",
                "\t\tselect\r\n",
                "\t\t\tgeography::UnionAggregate(l).ToString() as [busData],\r\n",
                "\t\t\t(select [GeoFence].ToString() from dbo.[GeoFences] where Id = @geofenceId) as [geoFence]\r\n",
                "\t\tfrom\r\n",
                "\t\t\tcte3\r\n",
                "\t\twhere\r\n",
                "\t\t\td < 5000\r\n",
                "\t\tfor json auto, include_null_values, without_array_wrapper\r\n",
                "\t)) as locationData\r\n",
                "end\r\n",
                "GO"
            ],
            "metadata": {
                "azdata_cell_guid": "d7340308-a55c-443f-a235-8f7848d90089",
                "language": "sql"
            },
            "outputs": [
                {
                    "output_type": "display_data",
                    "data": {
                        "text/html": "Commands completed successfully."
                    },
                    "metadata": {}
                },
                {
                    "output_type": "display_data",
                    "data": {
                        "text/html": "Total execution time: 00:00:00.139"
                    },
                    "metadata": {}
                }
            ],
            "execution_count": 12
        },
        {
            "cell_type": "markdown",
            "source": [
                "Confirm you've created the stored procedures with the following."
            ],
            "metadata": {
                "azdata_cell_guid": "57da2a37-393c-47c3-8409-2f3db8d1a7cc"
            }
        },
        {
            "cell_type": "code",
            "source": [
                "SELECT * FROM INFORMATION_SCHEMA.ROUTINES WHERE ROUTINE_SCHEMA = 'web'"
            ],
            "metadata": {
                "azdata_cell_guid": "004217bf-00f5-48e4-ab2f-2b972c9e0394",
                "language": "sql"
            },
            "outputs": [
{
    "output_type": "display_data",
    "data": {
        "text/html": "(3 rows affected)"
    },
    "metadata": {}
}, {
    "output_type": "display_data",
    "data": {
        "text/html": "Total execution time: 00:00:00.182"
    },
    "metadata": {}
}, {
    "output_type": "execute_result",
    "metadata": {},
    "execution_count": 13,
    "data": {
        "application/vnd.dataresource+json": {
            "schema": {
                "fields": [
                    {
                        "name": "SPECIFIC_CATALOG"
                    },
                    {
                        "name": "SPECIFIC_SCHEMA"
                    },
                    {
                        "name": "SPECIFIC_NAME"
                    },
                    {
                        "name": "ROUTINE_CATALOG"
                    },
                    {
                        "name": "ROUTINE_SCHEMA"
                    },
                    {
                        "name": "ROUTINE_NAME"
                    },
                    {
                        "name": "ROUTINE_TYPE"
                    },
                    {
                        "name": "MODULE_CATALOG"
                    },
                    {
                        "name": "MODULE_SCHEMA"
                    },
                    {
                        "name": "MODULE_NAME"
                    },
                    {
                        "name": "UDT_CATALOG"
                    },
                    {
                        "name": "UDT_SCHEMA"
                    },
                    {
                        "name": "UDT_NAME"
                    },
                    {
                        "name": "DATA_TYPE"
                    },
                    {
                        "name": "CHARACTER_MAXIMUM_LENGTH"
                    },
                    {
                        "name": "CHARACTER_OCTET_LENGTH"
                    },
                    {
                        "name": "COLLATION_CATALOG"
                    },
                    {
                        "name": "COLLATION_SCHEMA"
                    },
                    {
                        "name": "COLLATION_NAME"
                    },
                    {
                        "name": "CHARACTER_SET_CATALOG"
                    },
                    {
                        "name": "CHARACTER_SET_SCHEMA"
                    },
                    {
                        "name": "CHARACTER_SET_NAME"
                    },
                    {
                        "name": "NUMERIC_PRECISION"
                    },
                    {
                        "name": "NUMERIC_PRECISION_RADIX"
                    },
                    {
                        "name": "NUMERIC_SCALE"
                    },
                    {
                        "name": "DATETIME_PRECISION"
                    },
                    {
                        "name": "INTERVAL_TYPE"
                    },
                    {
                        "name": "INTERVAL_PRECISION"
                    },
                    {
                        "name": "TYPE_UDT_CATALOG"
                    },
                    {
                        "name": "TYPE_UDT_SCHEMA"
                    },
                    {
                        "name": "TYPE_UDT_NAME"
                    },
                    {
                        "name": "SCOPE_CATALOG"
                    },
                    {
                        "name": "SCOPE_SCHEMA"
                    },
                    {
                        "name": "SCOPE_NAME"
                    },
                    {
                        "name": "MAXIMUM_CARDINALITY"
                    },
                    {
                        "name": "DTD_IDENTIFIER"
                    },
                    {
                        "name": "ROUTINE_BODY"
                    },
                    {
                        "name": "ROUTINE_DEFINITION"
                    },
                    {
                        "name": "EXTERNAL_NAME"
                    },
                    {
                        "name": "EXTERNAL_LANGUAGE"
                    },
                    {
                        "name": "PARAMETER_STYLE"
                    },
                    {
                        "name": "IS_DETERMINISTIC"
                    },
                    {
                        "name": "SQL_DATA_ACCESS"
                    },
                    {
                        "name": "IS_NULL_CALL"
                    },
                    {
                        "name": "SQL_PATH"
                    },
                    {
                        "name": "SCHEMA_LEVEL_ROUTINE"
                    },
                    {
                        "name": "MAX_DYNAMIC_RESULT_SETS"
                    },
                    {
                        "name": "IS_USER_DEFINED_CAST"
                    },
                    {
                        "name": "IS_IMPLICITLY_INVOCABLE"
                    },
                    {
                        "name": "CREATED"
                    },
                    {
                        "name": "LAST_ALTERED"
                    }
                ]
            },
            "data": [
                {
                    "SPECIFIC_CATALOG": "bus-db",
                    "SPECIFIC_SCHEMA": "web",
                    "SPECIFIC_NAME": "AddBusData",
                    "ROUTINE_CATALOG": "bus-db",
                    "ROUTINE_SCHEMA": "web",
                    "ROUTINE_NAME": "AddBusData",
                    "ROUTINE_TYPE": "PROCEDURE",
                    "MODULE_CATALOG": "NULL",
                    "MODULE_SCHEMA": "NULL",
                    "MODULE_NAME": "NULL",
                    "UDT_CATALOG": "NULL",
                    "UDT_SCHEMA": "NULL",
                    "UDT_NAME": "NULL",
                    "DATA_TYPE": "NULL",
                    "CHARACTER_MAXIMUM_LENGTH": "NULL",
                    "CHARACTER_OCTET_LENGTH": "NULL",
                    "COLLATION_CATALOG": "NULL",
                    "COLLATION_SCHEMA": "NULL",
                    "COLLATION_NAME": "NULL",
                    "CHARACTER_SET_CATALOG": "NULL",
                    "CHARACTER_SET_SCHEMA": "NULL",
                    "CHARACTER_SET_NAME": "NULL",
                    "NUMERIC_PRECISION": "NULL",
                    "NUMERIC_PRECISION_RADIX": "NULL",
                    "NUMERIC_SCALE": "NULL",
                    "DATETIME_PRECISION": "NULL",
                    "INTERVAL_TYPE": "NULL",
                    "INTERVAL_PRECISION": "NULL",
                    "TYPE_UDT_CATALOG": "NULL",
                    "TYPE_UDT_SCHEMA": "NULL",
                    "TYPE_UDT_NAME": "NULL",
                    "SCOPE_CATALOG": "NULL",
                    "SCOPE_SCHEMA": "NULL",
                    "SCOPE_NAME": "NULL",
                    "MAXIMUM_CARDINALITY": "NULL",
                    "DTD_IDENTIFIER": "NULL",
                    "ROUTINE_BODY": "SQL",
                    "ROUTINE_DEFINITION": "/*\r\n\tAdd received Bus geolocation data and check if buses are\r\n\tinside any defined GeoFence. JSON must be like:\r\n\r\n\t{\r\n\t\t\"DirectionId\": 1,\r\n\t\t\"RouteId\": 100001,\r\n\t\t\"VehicleId\": 2,\r\n\t\t\"Position\": {\r\n\t\t\t\"Latitude\": 47.61705102765316,\r\n\t\t\t\"Longitude\": -122.14291865504012 \r\n\t\t},\r\n\t\t\"TimestampUTC\": \"20201031\"\r\n\t}\r\n}\r\n*/\r\ncreate   procedure [web].[AddBusData]\r\n@payload nvarchar(max) \r\nas\r\nbegin\t\r\n\tset nocount on\r\n\tset xact_abort on\r\n\tset tran isolation level serializable\r\n\r\n\tbegin tran\r\n\r\n\tif (isjson(@payload) != 1) begin;\r\n\t\tthrow 50000, 'Payload is not a valid JSON document', 16;\r\n\tend;\r\n\r\n\tdeclare @ids as table (id int);\r\n\r\n\t-- insert bus data\r\n\tinsert into dbo.[BusData] \r\n\t\t([DirectionId], [RouteId], [VehicleId], [Location], [TimestampUTC])\r\n\toutput\r\n\t\tinserted.Id into @ids\r\n\tselect\r\n\t\t[DirectionId], \r\n\t\t[RouteId], \r\n\t\t[VehicleId], \r\n\t\tgeography::Point([Latitude], [Longitude], 4326) as [Location], \r\n\t\t[TimestampUTC]\r\n\tfrom\r\n\t\topenjson(@payload) with (\r\n\t\t\t[DirectionId] int,\r\n\t\t\t[RouteId] int,\r\n\t\t\t[VehicleId] int,\r\n\t\t\t[Latitude] decimal(10,6) '$.Position.Latitude',\r\n\t\t\t[Longitude] decimal(10,6) '$.Position.Longitude',\r\n\t\t\t[TimestampUTC] datetime2(7)\r\n\t\t);\r\n\t\t\r\n\t-- Get details of inserted data\r\n\tselect * into #t from dbo.[BusData] bd where bd.id in (select i.id from @ids i);\r\n\r\n\t-- Find geofences in which the vehicle is in\r\n\tselect \r\n\t\tt.Id as BusDataId,\r\n\t\tt.[VehicleId],\r\n\t\tt.[DirectionId],\r\n\t\tt.[TimestampUTC],\r\n\t\tt.[RouteId],\t\t\r\n\t\tg.Id as GeoFenceId\r\n\tinto\r\n\t\t#g\r\n\tfrom \r\n\t\tdbo.GeoFences g \r\n\tright join\r\n\t\t#t t on g.GeoFence.STContains(t.[Location]) = 1;\r\n\r\n\t-- Calculate status\r\n\tselect\r\n\t\tc.BusDataId,\r\n\t\tcoalesce(a.[GeoFenceId], c.[GeoFenceId]) as GeoFenceId,\r\n\t\tcoalesce(a.[DirectionId], c.[DirectionId]) as DirectionId,\r\n\t\tcoalesce(a.[VehicleId], c.[VehicleId]) as VehicleId,\r\n\t\tc.[RouteId],\r\n\t\tc.[TimestampUTC],\r\n\t\tcase \r\n\t\t\twhen a.GeoFenceId is null and c.GeoFenceId is not null then 'Enter'\r\n\t\t\twhen a.GeoFenceId is not null and c.GeoFenceId is null then 'Exit'\t\t\r\n\t\tend as [Status]\r\n\tinto\r\n\t\t#s \r\n\tfrom\r\n\t\t#g c\r\n\tfull outer join\r\n\t\tdbo.GeoFencesActive a on c.DirectionId = a.DirectionId and c.VehicleId = a.VehicleId;\r\n\t\r\n\t-- Delete exited geofences\r\n\tdelete \r\n\t\ta\r\n\tfrom\r\n\t\tdbo.GeoFencesActive a\r\n\tinner join\r\n\t\t#s s on a.VehicleId = s.VehicleId and s.DirectionId = a.DirectionId and s.[Status] = 'Exit';\r\n\r\n\t-- Insert entered geofences\r\n\tinsert into dbo.GeoFencesActive \r\n\t\t([GeoFenceId], [DirectionId], [VehicleId])\r\n\tselect\r\n\t\t[GeoFenceId], [DirectionId], [VehicleId]\r\n\tfrom\r\n\t\t#s s\r\n\twhere \r\n\t\ts.[Status] = 'Enter';\r\n\r\n\t-- Insert Log\r\n\tinsert into dbo.GeoFenceLog \r\n\t\t(GeoFenceId, BusDataId, [RouteId], [VehicleId], [TimestampUTC], [Status])\r\n\tselect\r\n\t\tGeoFenceId, BusDataId, [RouteId], [VehicleId], [TimestampUTC], isnull([Status], 'In')\r\n\tfrom\r\n\t\t#s s\r\n\twhere\r\n\t\ts.[GeoFenceId] is not null\r\n\tand\r\n\t\ts.[BusDataId] is not null\r\n\r\n\t-- Return Entered or Exited geofences\r\n\tselect\r\n\t((\r\n\t\tselect\r\n\t\t\ts.[BusDataId],  \r\n\t\t\ts.[VehicleId],\r\n\t\t\ts.[DirectionId],  \r\n\t\t\ts.[RouteId], \r\n\t\t\tr.[ShortName] as RouteName,\r\n\t\t\ts.[GeoFenceId], \r\n\t\t\tgf.[Name] as GeoFence,\r\n\t\t\ts.[Status] as GeoFenceStatus,\r\n\t\t\ts.[TimestampUTC]\r\n\t\tfrom\r\n\t\t\t#s s\r\n\t\tinner join\r\n\t\t\tdbo.[GeoFences] gf on s.[GeoFenceId] = gf.[Id]\r\n\t\tinner join\r\n\t\t\tdbo.[Routes] r on s.[RouteId] = r.[Id]\r\n\t\twhere\r\n\t\t\ts.[Status] is not null and s.[GeoFenceId] is not null\r\n\t\tfor \r\n\t\t\tjson path\r\n\t)) as ActivatedGeoFences;\r\n\r\n\tcommit\r\nend",
                    "EXTERNAL_NAME": "NULL",
                    "EXTERNAL_LANGUAGE": "NULL",
                    "PARAMETER_STYLE": "NULL",
                    "IS_DETERMINISTIC": "NO",
                    "SQL_DATA_ACCESS": "MODIFIES",
                    "IS_NULL_CALL": "NULL",
                    "SQL_PATH": "NULL",
                    "SCHEMA_LEVEL_ROUTINE": "YES",
                    "MAX_DYNAMIC_RESULT_SETS": "-1",
                    "IS_USER_DEFINED_CAST": "NO",
                    "IS_IMPLICITLY_INVOCABLE": "NO",
                    "CREATED": "2023-06-18 03:40:41.523",
                    "LAST_ALTERED": "2023-06-18 03:40:45.487"
                },
                {
                    "SPECIFIC_CATALOG": "bus-db",
                    "SPECIFIC_SCHEMA": "web",
                    "SPECIFIC_NAME": "GetMonitoredRoutes",
                    "ROUTINE_CATALOG": "bus-db",
                    "ROUTINE_SCHEMA": "web",
                    "ROUTINE_NAME": "GetMonitoredRoutes",
                    "ROUTINE_TYPE": "PROCEDURE",
                    "MODULE_CATALOG": "NULL",
                    "MODULE_SCHEMA": "NULL",
                    "MODULE_NAME": "NULL",
                    "UDT_CATALOG": "NULL",
                    "UDT_SCHEMA": "NULL",
                    "UDT_NAME": "NULL",
                    "DATA_TYPE": "NULL",
                    "CHARACTER_MAXIMUM_LENGTH": "NULL",
                    "CHARACTER_OCTET_LENGTH": "NULL",
                    "COLLATION_CATALOG": "NULL",
                    "COLLATION_SCHEMA": "NULL",
                    "COLLATION_NAME": "NULL",
                    "CHARACTER_SET_CATALOG": "NULL",
                    "CHARACTER_SET_SCHEMA": "NULL",
                    "CHARACTER_SET_NAME": "NULL",
                    "NUMERIC_PRECISION": "NULL",
                    "NUMERIC_PRECISION_RADIX": "NULL",
                    "NUMERIC_SCALE": "NULL",
                    "DATETIME_PRECISION": "NULL",
                    "INTERVAL_TYPE": "NULL",
                    "INTERVAL_PRECISION": "NULL",
                    "TYPE_UDT_CATALOG": "NULL",
                    "TYPE_UDT_SCHEMA": "NULL",
                    "TYPE_UDT_NAME": "NULL",
                    "SCOPE_CATALOG": "NULL",
                    "SCOPE_SCHEMA": "NULL",
                    "SCOPE_NAME": "NULL",
                    "MAXIMUM_CARDINALITY": "NULL",
                    "DTD_IDENTIFIER": "NULL",
                    "ROUTINE_BODY": "SQL",
                    "ROUTINE_DEFINITION": "/*\r\n\tReturn the Routes (and thus the buses) to monitor\r\n*/\r\ncreate   procedure [web].[GetMonitoredRoutes]\r\nas\r\nbegin\r\n\tselect \r\n\t((\t\r\n\t\tselect RouteId from dbo.[MonitoredRoutes] for json auto\r\n\t)) as MonitoredRoutes\r\nend\r\n",
                    "EXTERNAL_NAME": "NULL",
                    "EXTERNAL_LANGUAGE": "NULL",
                    "PARAMETER_STYLE": "NULL",
                    "IS_DETERMINISTIC": "NO",
                    "SQL_DATA_ACCESS": "MODIFIES",
                    "IS_NULL_CALL": "NULL",
                    "SQL_PATH": "NULL",
                    "SCHEMA_LEVEL_ROUTINE": "YES",
                    "MAX_DYNAMIC_RESULT_SETS": "-1",
                    "IS_USER_DEFINED_CAST": "NO",
                    "IS_IMPLICITLY_INVOCABLE": "NO",
                    "CREATED": "2023-06-18 03:40:54.157",
                    "LAST_ALTERED": "2023-06-18 03:40:54.157"
                },
                {
                    "SPECIFIC_CATALOG": "bus-db",
                    "SPECIFIC_SCHEMA": "web",
                    "SPECIFIC_NAME": "GetMonitoredBusData",
                    "ROUTINE_CATALOG": "bus-db",
                    "ROUTINE_SCHEMA": "web",
                    "ROUTINE_NAME": "GetMonitoredBusData",
                    "ROUTINE_TYPE": "PROCEDURE",
                    "MODULE_CATALOG": "NULL",
                    "MODULE_SCHEMA": "NULL",
                    "MODULE_NAME": "NULL",
                    "UDT_CATALOG": "NULL",
                    "UDT_SCHEMA": "NULL",
                    "UDT_NAME": "NULL",
                    "DATA_TYPE": "NULL",
                    "CHARACTER_MAXIMUM_LENGTH": "NULL",
                    "CHARACTER_OCTET_LENGTH": "NULL",
                    "COLLATION_CATALOG": "NULL",
                    "COLLATION_SCHEMA": "NULL",
                    "COLLATION_NAME": "NULL",
                    "CHARACTER_SET_CATALOG": "NULL",
                    "CHARACTER_SET_SCHEMA": "NULL",
                    "CHARACTER_SET_NAME": "NULL",
                    "NUMERIC_PRECISION": "NULL",
                    "NUMERIC_PRECISION_RADIX": "NULL",
                    "NUMERIC_SCALE": "NULL",
                    "DATETIME_PRECISION": "NULL",
                    "INTERVAL_TYPE": "NULL",
                    "INTERVAL_PRECISION": "NULL",
                    "TYPE_UDT_CATALOG": "NULL",
                    "TYPE_UDT_SCHEMA": "NULL",
                    "TYPE_UDT_NAME": "NULL",
                    "SCOPE_CATALOG": "NULL",
                    "SCOPE_SCHEMA": "NULL",
                    "SCOPE_NAME": "NULL",
                    "MAXIMUM_CARDINALITY": "NULL",
                    "DTD_IDENTIFIER": "NULL",
                    "ROUTINE_BODY": "SQL",
                    "ROUTINE_DEFINITION": "/*\r\n\tReturn last geospatial data for bus closest to the GeoFence\r\n*/\r\ncreate   procedure [web].[GetMonitoredBusData]\r\n@routeId int,\r\n@geofenceId int\r\nas\r\nbegin\r\n\twith cte as\r\n\t(\r\n\t\t-- Get the latest location of all the buses in the given route\r\n\t\tselect top (1) with ties \r\n\t\t\t*  \r\n\t\tfrom \r\n\t\t\tdbo.[BusData] \r\n\t\twhere\r\n\t\t\t[RouteId] = @routeId\r\n\t\torder by \r\n\t\t\t[ReceivedAtUTC] desc\r\n\t),\r\n\tcte2 as\r\n\t(\r\n\t\t-- Get the closest to the GeoFence\r\n\t\tselect top (1)\r\n\t\t\tc.[VehicleId],\r\n\t\t\tgf.[GeoFence],\r\n\t\t\tc.[Location].STDistance(gf.[GeoFence]) as d\r\n\t\tfrom\r\n\t\t\t[cte] c\r\n\t\tcross join\r\n\t\t\tdbo.[GeoFences] gf\r\n\t\twhere\r\n\t\t\tgf.[Id] = @geofenceId\r\n\t\torder by\r\n\t\t\td \r\n\t), cte3 as\r\n\t(\r\n\t-- Take the last 50 points \r\n\tselect top (50)\r\n\t\t[bd].[VehicleId],\r\n\t\t[bd].[DirectionId],\r\n\t\t[bd].[Location] as l,\r\n\t\t[bd].[Location].STDistance([GeoFence]) as d\r\n\tfrom\r\n\t\tdbo.[BusData] bd\r\n\tinner join\r\n\t\tcte2 on [cte2].[VehicleId] = [bd].[VehicleId]\r\n\torder by \r\n\t\tid desc\r\n\t)\r\n\t-- Return only the points that are withing 5 Km\r\n\tselect \r\n\t((\r\n\t\tselect\r\n\t\t\tgeography::UnionAggregate(l).ToString() as [busData],\r\n\t\t\t(select [GeoFence].ToString() from dbo.[GeoFences] where Id = @geofenceId) as [geoFence]\r\n\t\tfrom\r\n\t\t\tcte3\r\n\t\twhere\r\n\t\t\td < 5000\r\n\t\tfor json auto, include_null_values, without_array_wrapper\r\n\t)) as locationData\r\nend\r\n",
                    "EXTERNAL_NAME": "NULL",
                    "EXTERNAL_LANGUAGE": "NULL",
                    "PARAMETER_STYLE": "NULL",
                    "IS_DETERMINISTIC": "NO",
                    "SQL_DATA_ACCESS": "MODIFIES",
                    "IS_NULL_CALL": "NULL",
                    "SQL_PATH": "NULL",
                    "SCHEMA_LEVEL_ROUTINE": "YES",
                    "MAX_DYNAMIC_RESULT_SETS": "-1",
                    "IS_USER_DEFINED_CAST": "NO",
                    "IS_IMPLICITLY_INVOCABLE": "NO",
                    "CREATED": "2023-06-18 03:41:01.457",
                    "LAST_ALTERED": "2023-06-18 03:41:01.457"
                }
            ]
        },
        "text/html": [
            "<table>",
            "<tr><th>SPECIFIC_CATALOG</th><th>SPECIFIC_SCHEMA</th><th>SPECIFIC_NAME</th><th>ROUTINE_CATALOG</th><th>ROUTINE_SCHEMA</th><th>ROUTINE_NAME</th><th>ROUTINE_TYPE</th><th>MODULE_CATALOG</th><th>MODULE_SCHEMA</th><th>MODULE_NAME</th><th>UDT_CATALOG</th><th>UDT_SCHEMA</th><th>UDT_NAME</th><th>DATA_TYPE</th><th>CHARACTER_MAXIMUM_LENGTH</th><th>CHARACTER_OCTET_LENGTH</th><th>COLLATION_CATALOG</th><th>COLLATION_SCHEMA</th><th>COLLATION_NAME</th><th>CHARACTER_SET_CATALOG</th><th>CHARACTER_SET_SCHEMA</th><th>CHARACTER_SET_NAME</th><th>NUMERIC_PRECISION</th><th>NUMERIC_PRECISION_RADIX</th><th>NUMERIC_SCALE</th><th>DATETIME_PRECISION</th><th>INTERVAL_TYPE</th><th>INTERVAL_PRECISION</th><th>TYPE_UDT_CATALOG</th><th>TYPE_UDT_SCHEMA</th><th>TYPE_UDT_NAME</th><th>SCOPE_CATALOG</th><th>SCOPE_SCHEMA</th><th>SCOPE_NAME</th><th>MAXIMUM_CARDINALITY</th><th>DTD_IDENTIFIER</th><th>ROUTINE_BODY</th><th>ROUTINE_DEFINITION</th><th>EXTERNAL_NAME</th><th>EXTERNAL_LANGUAGE</th><th>PARAMETER_STYLE</th><th>IS_DETERMINISTIC</th><th>SQL_DATA_ACCESS</th><th>IS_NULL_CALL</th><th>SQL_PATH</th><th>SCHEMA_LEVEL_ROUTINE</th><th>MAX_DYNAMIC_RESULT_SETS</th><th>IS_USER_DEFINED_CAST</th><th>IS_IMPLICITLY_INVOCABLE</th><th>CREATED</th><th>LAST_ALTERED</th></tr>",
            "<tr><td>bus-db</td><td>web</td><td>AddBusData</td><td>bus-db</td><td>web</td><td>AddBusData</td><td>PROCEDURE</td><td>NULL</td><td>NULL</td><td>NULL</td><td>NULL</td><td>NULL</td><td>NULL</td><td>NULL</td><td>NULL</td><td>NULL</td><td>NULL</td><td>NULL</td><td>NULL</td><td>NULL</td><td>NULL</td><td>NULL</td><td>NULL</td><td>NULL</td><td>NULL</td><td>NULL</td><td>NULL</td><td>NULL</td><td>NULL</td><td>NULL</td><td>NULL</td><td>NULL</td><td>NULL</td><td>NULL</td><td>NULL</td><td>NULL</td><td>SQL</td><td>/*\r\n\tAdd received Bus geolocation data and check if buses are\r\n\tinside any defined GeoFence. JSON must be like:\r\n\r\n\t{\r\n\t\t&quot;DirectionId&quot;: 1,\r\n\t\t&quot;RouteId&quot;: 100001,\r\n\t\t&quot;VehicleId&quot;: 2,\r\n\t\t&quot;Position&quot;: {\r\n\t\t\t&quot;Latitude&quot;: 47.61705102765316,\r\n\t\t\t&quot;Longitude&quot;: -122.14291865504012 \r\n\t\t},\r\n\t\t&quot;TimestampUTC&quot;: &quot;20201031&quot;\r\n\t}\r\n}\r\n*/\r\ncreate   procedure [web].[AddBusData]\r\n@payload nvarchar(max) \r\nas\r\nbegin\t\r\n\tset nocount on\r\n\tset xact_abort on\r\n\tset tran isolation level serializable\r\n\r\n\tbegin tran\r\n\r\n\tif (isjson(@payload) != 1) begin;\r\n\t\tthrow 50000, 'Payload is not a valid JSON document', 16;\r\n\tend;\r\n\r\n\tdeclare @ids as table (id int);\r\n\r\n\t-- insert bus data\r\n\tinsert into dbo.[BusData] \r\n\t\t([DirectionId], [RouteId], [VehicleId], [Location], [TimestampUTC])\r\n\toutput\r\n\t\tinserted.Id into @ids\r\n\tselect\r\n\t\t[DirectionId], \r\n\t\t[RouteId], \r\n\t\t[VehicleId], \r\n\t\tgeography::Point([Latitude], [Longitude], 4326) as [Location], \r\n\t\t[TimestampUTC]\r\n\tfrom\r\n\t\topenjson(@payload) with (\r\n\t\t\t[DirectionId] int,\r\n\t\t\t[RouteId] int,\r\n\t\t\t[VehicleId] int,\r\n\t\t\t[Latitude] decimal(10,6) '$.Position.Latitude',\r\n\t\t\t[Longitude] decimal(10,6) '$.Position.Longitude',\r\n\t\t\t[TimestampUTC] datetime2(7)\r\n\t\t);\r\n\t\t\r\n\t-- Get details of inserted data\r\n\tselect * into #t from dbo.[BusData] bd where bd.id in (select i.id from @ids i);\r\n\r\n\t-- Find geofences in which the vehicle is in\r\n\tselect \r\n\t\tt.Id as BusDataId,\r\n\t\tt.[VehicleId],\r\n\t\tt.[DirectionId],\r\n\t\tt.[TimestampUTC],\r\n\t\tt.[RouteId],\t\t\r\n\t\tg.Id as GeoFenceId\r\n\tinto\r\n\t\t#g\r\n\tfrom \r\n\t\tdbo.GeoFences g \r\n\tright join\r\n\t\t#t t on g.GeoFence.STContains(t.[Location]) = 1;\r\n\r\n\t-- Calculate status\r\n\tselect\r\n\t\tc.BusDataId,\r\n\t\tcoalesce(a.[GeoFenceId], c.[GeoFenceId]) as GeoFenceId,\r\n\t\tcoalesce(a.[DirectionId], c.[DirectionId]) as DirectionId,\r\n\t\tcoalesce(a.[VehicleId], c.[VehicleId]) as VehicleId,\r\n\t\tc.[RouteId],\r\n\t\tc.[TimestampUTC],\r\n\t\tcase \r\n\t\t\twhen a.GeoFenceId is null and c.GeoFenceId is not null then 'Enter'\r\n\t\t\twhen a.GeoFenceId is not null and c.GeoFenceId is null then 'Exit'\t\t\r\n\t\tend as [Status]\r\n\tinto\r\n\t\t#s \r\n\tfrom\r\n\t\t#g c\r\n\tfull outer join\r\n\t\tdbo.GeoFencesActive a on c.DirectionId = a.DirectionId and c.VehicleId = a.VehicleId;\r\n\t\r\n\t-- Delete exited geofences\r\n\tdelete \r\n\t\ta\r\n\tfrom\r\n\t\tdbo.GeoFencesActive a\r\n\tinner join\r\n\t\t#s s on a.VehicleId = s.VehicleId and s.DirectionId = a.DirectionId and s.[Status] = 'Exit';\r\n\r\n\t-- Insert entered geofences\r\n\tinsert into dbo.GeoFencesActive \r\n\t\t([GeoFenceId], [DirectionId], [VehicleId])\r\n\tselect\r\n\t\t[GeoFenceId], [DirectionId], [VehicleId]\r\n\tfrom\r\n\t\t#s s\r\n\twhere \r\n\t\ts.[Status] = 'Enter';\r\n\r\n\t-- Insert Log\r\n\tinsert into dbo.GeoFenceLog \r\n\t\t(GeoFenceId, BusDataId, [RouteId], [VehicleId], [TimestampUTC], [Status])\r\n\tselect\r\n\t\tGeoFenceId, BusDataId, [RouteId], [VehicleId], [TimestampUTC], isnull([Status], 'In')\r\n\tfrom\r\n\t\t#s s\r\n\twhere\r\n\t\ts.[GeoFenceId] is not null\r\n\tand\r\n\t\ts.[BusDataId] is not null\r\n\r\n\t-- Return Entered or Exited geofences\r\n\tselect\r\n\t((\r\n\t\tselect\r\n\t\t\ts.[BusDataId],  \r\n\t\t\ts.[VehicleId],\r\n\t\t\ts.[DirectionId],  \r\n\t\t\ts.[RouteId], \r\n\t\t\tr.[ShortName] as RouteName,\r\n\t\t\ts.[GeoFenceId], \r\n\t\t\tgf.[Name] as GeoFence,\r\n\t\t\ts.[Status] as GeoFenceStatus,\r\n\t\t\ts.[TimestampUTC]\r\n\t\tfrom\r\n\t\t\t#s s\r\n\t\tinner join\r\n\t\t\tdbo.[GeoFences] gf on s.[GeoFenceId] = gf.[Id]\r\n\t\tinner join\r\n\t\t\tdbo.[Routes] r on s.[RouteId] = r.[Id]\r\n\t\twhere\r\n\t\t\ts.[Status] is not null and s.[GeoFenceId] is not null\r\n\t\tfor \r\n\t\t\tjson path\r\n\t)) as ActivatedGeoFences;\r\n\r\n\tcommit\r\nend</td><td>NULL</td><td>NULL</td><td>NULL</td><td>NO</td><td>MODIFIES</td><td>NULL</td><td>NULL</td><td>YES</td><td>-1</td><td>NO</td><td>NO</td><td>2023-06-18 03:40:41.523</td><td>2023-06-18 03:40:45.487</td></tr>",
            "<tr><td>bus-db</td><td>web</td><td>GetMonitoredRoutes</td><td>bus-db</td><td>web</td><td>GetMonitoredRoutes</td><td>PROCEDURE</td><td>NULL</td><td>NULL</td><td>NULL</td><td>NULL</td><td>NULL</td><td>NULL</td><td>NULL</td><td>NULL</td><td>NULL</td><td>NULL</td><td>NULL</td><td>NULL</td><td>NULL</td><td>NULL</td><td>NULL</td><td>NULL</td><td>NULL</td><td>NULL</td><td>NULL</td><td>NULL</td><td>NULL</td><td>NULL</td><td>NULL</td><td>NULL</td><td>NULL</td><td>NULL</td><td>NULL</td><td>NULL</td><td>NULL</td><td>SQL</td><td>/*\r\n\tReturn the Routes (and thus the buses) to monitor\r\n*/\r\ncreate   procedure [web].[GetMonitoredRoutes]\r\nas\r\nbegin\r\n\tselect \r\n\t((\t\r\n\t\tselect RouteId from dbo.[MonitoredRoutes] for json auto\r\n\t)) as MonitoredRoutes\r\nend\r\n</td><td>NULL</td><td>NULL</td><td>NULL</td><td>NO</td><td>MODIFIES</td><td>NULL</td><td>NULL</td><td>YES</td><td>-1</td><td>NO</td><td>NO</td><td>2023-06-18 03:40:54.157</td><td>2023-06-18 03:40:54.157</td></tr>",
            "<tr><td>bus-db</td><td>web</td><td>GetMonitoredBusData</td><td>bus-db</td><td>web</td><td>GetMonitoredBusData</td><td>PROCEDURE</td><td>NULL</td><td>NULL</td><td>NULL</td><td>NULL</td><td>NULL</td><td>NULL</td><td>NULL</td><td>NULL</td><td>NULL</td><td>NULL</td><td>NULL</td><td>NULL</td><td>NULL</td><td>NULL</td><td>NULL</td><td>NULL</td><td>NULL</td><td>NULL</td><td>NULL</td><td>NULL</td><td>NULL</td><td>NULL</td><td>NULL</td><td>NULL</td><td>NULL</td><td>NULL</td><td>NULL</td><td>NULL</td><td>NULL</td><td>SQL</td><td>/*\r\n\tReturn last geospatial data for bus closest to the GeoFence\r\n*/\r\ncreate   procedure [web].[GetMonitoredBusData]\r\n@routeId int,\r\n@geofenceId int\r\nas\r\nbegin\r\n\twith cte as\r\n\t(\r\n\t\t-- Get the latest location of all the buses in the given route\r\n\t\tselect top (1) with ties \r\n\t\t\t*  \r\n\t\tfrom \r\n\t\t\tdbo.[BusData] \r\n\t\twhere\r\n\t\t\t[RouteId] = @routeId\r\n\t\torder by \r\n\t\t\t[ReceivedAtUTC] desc\r\n\t),\r\n\tcte2 as\r\n\t(\r\n\t\t-- Get the closest to the GeoFence\r\n\t\tselect top (1)\r\n\t\t\tc.[VehicleId],\r\n\t\t\tgf.[GeoFence],\r\n\t\t\tc.[Location].STDistance(gf.[GeoFence]) as d\r\n\t\tfrom\r\n\t\t\t[cte] c\r\n\t\tcross join\r\n\t\t\tdbo.[GeoFences] gf\r\n\t\twhere\r\n\t\t\tgf.[Id] = @geofenceId\r\n\t\torder by\r\n\t\t\td \r\n\t), cte3 as\r\n\t(\r\n\t-- Take the last 50 points \r\n\tselect top (50)\r\n\t\t[bd].[VehicleId],\r\n\t\t[bd].[DirectionId],\r\n\t\t[bd].[Location] as l,\r\n\t\t[bd].[Location].STDistance([GeoFence]) as d\r\n\tfrom\r\n\t\tdbo.[BusData] bd\r\n\tinner join\r\n\t\tcte2 on [cte2].[VehicleId] = [bd].[VehicleId]\r\n\torder by \r\n\t\tid desc\r\n\t)\r\n\t-- Return only the points that are withing 5 Km\r\n\tselect \r\n\t((\r\n\t\tselect\r\n\t\t\tgeography::UnionAggregate(l).ToString() as [busData],\r\n\t\t\t(select [GeoFence].ToString() from dbo.[GeoFences] where Id = @geofenceId) as [geoFence]\r\n\t\tfrom\r\n\t\t\tcte3\r\n\t\twhere\r\n\t\t\td &lt; 5000\r\n\t\tfor json auto, include_null_values, without_array_wrapper\r\n\t)) as locationData\r\nend\r\n</td><td>NULL</td><td>NULL</td><td>NULL</td><td>NO</td><td>MODIFIES</td><td>NULL</td><td>NULL</td><td>YES</td><td>-1</td><td>NO</td><td>NO</td><td>2023-06-18 03:41:01.457</td><td>2023-06-18 03:41:01.457</td></tr>",
            "</table>"
        ]
    }
}
],
            "execution_count": 13
        }
    ]
}